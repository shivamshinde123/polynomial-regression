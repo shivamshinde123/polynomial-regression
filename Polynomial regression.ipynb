{
 "cells": [
  {
   "cell_type": "code",
   "execution_count": 1,
   "id": "98f2807b",
   "metadata": {},
   "outputs": [],
   "source": [
    "import numpy as np\n",
    "import pandas as pd"
   ]
  },
  {
   "cell_type": "code",
   "execution_count": 2,
   "id": "69f3116a",
   "metadata": {},
   "outputs": [],
   "source": [
    "## creating the data\n",
    "m = 100\n",
    "X = 6* np.random.rand(m,1) - 3\n",
    "y = 0.5 * X**2 + 2 + np.random.randn(m, 1)"
   ]
  },
  {
   "cell_type": "code",
   "execution_count": 3,
   "id": "20578f4c",
   "metadata": {},
   "outputs": [
    {
     "data": {
      "text/plain": [
       "Text(0.5, 1.0, 'X VS y')"
      ]
     },
     "execution_count": 3,
     "metadata": {},
     "output_type": "execute_result"
    },
    {
     "data": {
      "image/png": "[encoded data removed]",
      "text/plain": [
       "<Figure size 864x504 with 1 Axes>"
      ]
     },
     "metadata": {
      "needs_background": "light"
     },
     "output_type": "display_data"
    }
   ],
   "source": [
    "## plotting the data\n",
    "import matplotlib.pyplot as plt\n",
    "\n",
    "plt.figure(figsize=(12,7))\n",
    "plt.plot(X, y, 'ro')\n",
    "plt.xlabel('X')\n",
    "plt.ylabel('y')\n",
    "plt.title('X VS y')"
   ]
  },
  {
   "cell_type": "code",
   "execution_count": 4,
   "id": "ecaaf6a5",
   "metadata": {},
   "outputs": [],
   "source": [
    "from sklearn.preprocessing import PolynomialFeatures"
   ]
  },
  {
   "cell_type": "code",
   "execution_count": 5,
   "id": "33f3bd72",
   "metadata": {},
   "outputs": [],
   "source": [
    "poly_features = PolynomialFeatures(degree = 2, include_bias=True)\n",
    "X_poly = poly_features.fit_transform(X)"
   ]
  },
  {
   "cell_type": "code",
   "execution_count": 6,
   "id": "5abe14fd",
   "metadata": {
    "scrolled": true
   },
   "outputs": [
    {
     "data": {
      "text/plain": [
       "array([[-0.30843102],\n",
       "       [-0.2249081 ],\n",
       "       [ 1.63223305],\n",
       "       [ 2.62692856],\n",
       "       [ 1.98103087],\n",
       "       [ 2.61406755],\n",
       "       [ 1.80837022],\n",
       "       [-1.24635542],\n",
       "       [-1.63961617],\n",
       "       [-2.81917873],\n",
       "       [ 0.39169355],\n",
       "       [ 2.49912029],\n",
       "       [ 1.37282974],\n",
       "       [ 0.5557697 ],\n",
       "       [-1.91859203],\n",
       "       [ 1.17799132],\n",
       "       [-2.53298864],\n",
       "       [-1.48629254],\n",
       "       [-2.01487903],\n",
       "       [ 2.78071416],\n",
       "       [ 1.50427307],\n",
       "       [-2.48183979],\n",
       "       [ 0.14339245],\n",
       "       [ 1.14109593],\n",
       "       [-1.00464943],\n",
       "       [ 1.22027072],\n",
       "       [ 2.95888709],\n",
       "       [ 0.25061825],\n",
       "       [ 0.43984484],\n",
       "       [-1.25756791],\n",
       "       [ 0.4572979 ],\n",
       "       [ 2.95011743],\n",
       "       [ 1.74194226],\n",
       "       [-1.9419048 ],\n",
       "       [ 1.68143995],\n",
       "       [-1.09986971],\n",
       "       [ 2.31153304],\n",
       "       [-0.42465135],\n",
       "       [ 1.91784631],\n",
       "       [-2.00968266],\n",
       "       [-0.8340385 ],\n",
       "       [ 0.89025067],\n",
       "       [ 0.23391157],\n",
       "       [-0.71991596],\n",
       "       [-0.01405449],\n",
       "       [ 0.40232388],\n",
       "       [ 0.83921088],\n",
       "       [-2.66230677],\n",
       "       [-2.56179223],\n",
       "       [-1.86852694],\n",
       "       [ 2.57864914],\n",
       "       [ 2.01146911],\n",
       "       [ 0.55941123],\n",
       "       [ 1.56465323],\n",
       "       [ 2.11866144],\n",
       "       [ 2.16108054],\n",
       "       [ 1.25293442],\n",
       "       [ 0.99578431],\n",
       "       [ 0.0102483 ],\n",
       "       [ 2.80162352],\n",
       "       [ 2.02221729],\n",
       "       [ 1.68701895],\n",
       "       [ 2.6794067 ],\n",
       "       [ 1.37641225],\n",
       "       [-2.02863437],\n",
       "       [-2.48301681],\n",
       "       [ 0.68955035],\n",
       "       [-0.4681485 ],\n",
       "       [-1.78550592],\n",
       "       [-2.96066498],\n",
       "       [-1.78201325],\n",
       "       [-2.67929108],\n",
       "       [ 1.08720205],\n",
       "       [ 2.66611966],\n",
       "       [ 0.49712409],\n",
       "       [-2.10862541],\n",
       "       [-1.58001716],\n",
       "       [ 2.18996042],\n",
       "       [-0.07738657],\n",
       "       [-0.99996137],\n",
       "       [-2.24008534],\n",
       "       [ 0.48108667],\n",
       "       [-0.37020206],\n",
       "       [ 1.99928473],\n",
       "       [ 2.42804628],\n",
       "       [-0.17914753],\n",
       "       [-0.36757866],\n",
       "       [-0.043765  ],\n",
       "       [ 1.10581455],\n",
       "       [ 1.75424988],\n",
       "       [-2.57057923],\n",
       "       [-1.24170774],\n",
       "       [ 1.00163168],\n",
       "       [-1.60258842],\n",
       "       [ 2.67750893],\n",
       "       [-2.49030188],\n",
       "       [-0.4953077 ],\n",
       "       [ 2.27497084],\n",
       "       [ 0.76570924],\n",
       "       [ 1.72759151]])"
      ]
     },
     "execution_count": 6,
     "metadata": {},
     "output_type": "execute_result"
    }
   ],
   "source": [
    "X"
   ]
  },
  {
   "cell_type": "code",
   "execution_count": 7,
   "id": "a3f6f684",
   "metadata": {
    "scrolled": true
   },
   "outputs": [
    {
     "data": {
      "text/plain": [
       "array([[ 1.00000000e+00, -3.08431022e-01,  9.51296951e-02],\n",
       "       [ 1.00000000e+00, -2.24908101e-01,  5.05836540e-02],\n",
       "       [ 1.00000000e+00,  1.63223305e+00,  2.66418474e+00],\n",
       "       [ 1.00000000e+00,  2.62692856e+00,  6.90075368e+00],\n",
       "       [ 1.00000000e+00,  1.98103087e+00,  3.92448333e+00],\n",
       "       [ 1.00000000e+00,  2.61406755e+00,  6.83334918e+00],\n",
       "       [ 1.00000000e+00,  1.80837022e+00,  3.27020286e+00],\n",
       "       [ 1.00000000e+00, -1.24635542e+00,  1.55340183e+00],\n",
       "       [ 1.00000000e+00, -1.63961617e+00,  2.68834117e+00],\n",
       "       [ 1.00000000e+00, -2.81917873e+00,  7.94776869e+00],\n",
       "       [ 1.00000000e+00,  3.91693551e-01,  1.53423838e-01],\n",
       "       [ 1.00000000e+00,  2.49912029e+00,  6.24560220e+00],\n",
       "       [ 1.00000000e+00,  1.37282974e+00,  1.88466150e+00],\n",
       "       [ 1.00000000e+00,  5.55769701e-01,  3.08879961e-01],\n",
       "       [ 1.00000000e+00, -1.91859203e+00,  3.68099537e+00],\n",
       "       [ 1.00000000e+00,  1.17799132e+00,  1.38766355e+00],\n",
       "       [ 1.00000000e+00, -2.53298864e+00,  6.41603144e+00],\n",
       "       [ 1.00000000e+00, -1.48629254e+00,  2.20906552e+00],\n",
       "       [ 1.00000000e+00, -2.01487903e+00,  4.05973751e+00],\n",
       "       [ 1.00000000e+00,  2.78071416e+00,  7.73237123e+00],\n",
       "       [ 1.00000000e+00,  1.50427307e+00,  2.26283747e+00],\n",
       "       [ 1.00000000e+00, -2.48183979e+00,  6.15952872e+00],\n",
       "       [ 1.00000000e+00,  1.43392447e-01,  2.05613938e-02],\n",
       "       [ 1.00000000e+00,  1.14109593e+00,  1.30209992e+00],\n",
       "       [ 1.00000000e+00, -1.00464943e+00,  1.00932047e+00],\n",
       "       [ 1.00000000e+00,  1.22027072e+00,  1.48906063e+00],\n",
       "       [ 1.00000000e+00,  2.95888709e+00,  8.75501281e+00],\n",
       "       [ 1.00000000e+00,  2.50618251e-01,  6.28095078e-02],\n",
       "       [ 1.00000000e+00,  4.39844843e-01,  1.93463486e-01],\n",
       "       [ 1.00000000e+00, -1.25756791e+00,  1.58147705e+00],\n",
       "       [ 1.00000000e+00,  4.57297900e-01,  2.09121369e-01],\n",
       "       [ 1.00000000e+00,  2.95011743e+00,  8.70319285e+00],\n",
       "       [ 1.00000000e+00,  1.74194226e+00,  3.03436284e+00],\n",
       "       [ 1.00000000e+00, -1.94190480e+00,  3.77099426e+00],\n",
       "       [ 1.00000000e+00,  1.68143995e+00,  2.82724029e+00],\n",
       "       [ 1.00000000e+00, -1.09986971e+00,  1.20971338e+00],\n",
       "       [ 1.00000000e+00,  2.31153304e+00,  5.34318498e+00],\n",
       "       [ 1.00000000e+00, -4.24651348e-01,  1.80328767e-01],\n",
       "       [ 1.00000000e+00,  1.91784631e+00,  3.67813448e+00],\n",
       "       [ 1.00000000e+00, -2.00968266e+00,  4.03882441e+00],\n",
       "       [ 1.00000000e+00, -8.34038496e-01,  6.95620213e-01],\n",
       "       [ 1.00000000e+00,  8.90250670e-01,  7.92546256e-01],\n",
       "       [ 1.00000000e+00,  2.33911574e-01,  5.47146245e-02],\n",
       "       [ 1.00000000e+00, -7.19915964e-01,  5.18278995e-01],\n",
       "       [ 1.00000000e+00, -1.40544942e-02,  1.97528808e-04],\n",
       "       [ 1.00000000e+00,  4.02323879e-01,  1.61864503e-01],\n",
       "       [ 1.00000000e+00,  8.39210875e-01,  7.04274893e-01],\n",
       "       [ 1.00000000e+00, -2.66230677e+00,  7.08787734e+00],\n",
       "       [ 1.00000000e+00, -2.56179223e+00,  6.56277944e+00],\n",
       "       [ 1.00000000e+00, -1.86852694e+00,  3.49139291e+00],\n",
       "       [ 1.00000000e+00,  2.57864914e+00,  6.64943139e+00],\n",
       "       [ 1.00000000e+00,  2.01146911e+00,  4.04600798e+00],\n",
       "       [ 1.00000000e+00,  5.59411227e-01,  3.12940921e-01],\n",
       "       [ 1.00000000e+00,  1.56465323e+00,  2.44813974e+00],\n",
       "       [ 1.00000000e+00,  2.11866144e+00,  4.48872630e+00],\n",
       "       [ 1.00000000e+00,  2.16108054e+00,  4.67026911e+00],\n",
       "       [ 1.00000000e+00,  1.25293442e+00,  1.56984467e+00],\n",
       "       [ 1.00000000e+00,  9.95784308e-01,  9.91586389e-01],\n",
       "       [ 1.00000000e+00,  1.02482963e-02,  1.05027578e-04],\n",
       "       [ 1.00000000e+00,  2.80162352e+00,  7.84909434e+00],\n",
       "       [ 1.00000000e+00,  2.02221729e+00,  4.08936275e+00],\n",
       "       [ 1.00000000e+00,  1.68701895e+00,  2.84603292e+00],\n",
       "       [ 1.00000000e+00,  2.67940670e+00,  7.17922027e+00],\n",
       "       [ 1.00000000e+00,  1.37641225e+00,  1.89451068e+00],\n",
       "       [ 1.00000000e+00, -2.02863437e+00,  4.11535740e+00],\n",
       "       [ 1.00000000e+00, -2.48301681e+00,  6.16537247e+00],\n",
       "       [ 1.00000000e+00,  6.89550355e-01,  4.75479692e-01],\n",
       "       [ 1.00000000e+00, -4.68148497e-01,  2.19163016e-01],\n",
       "       [ 1.00000000e+00, -1.78550592e+00,  3.18803139e+00],\n",
       "       [ 1.00000000e+00, -2.96066498e+00,  8.76553710e+00],\n",
       "       [ 1.00000000e+00, -1.78201325e+00,  3.17557122e+00],\n",
       "       [ 1.00000000e+00, -2.67929108e+00,  7.17860070e+00],\n",
       "       [ 1.00000000e+00,  1.08720205e+00,  1.18200830e+00],\n",
       "       [ 1.00000000e+00,  2.66611966e+00,  7.10819402e+00],\n",
       "       [ 1.00000000e+00,  4.97124088e-01,  2.47132359e-01],\n",
       "       [ 1.00000000e+00, -2.10862541e+00,  4.44630112e+00],\n",
       "       [ 1.00000000e+00, -1.58001716e+00,  2.49645423e+00],\n",
       "       [ 1.00000000e+00,  2.18996042e+00,  4.79592663e+00],\n",
       "       [ 1.00000000e+00, -7.73865709e-02,  5.98868135e-03],\n",
       "       [ 1.00000000e+00, -9.99961366e-01,  9.99922733e-01],\n",
       "       [ 1.00000000e+00, -2.24008534e+00,  5.01798234e+00],\n",
       "       [ 1.00000000e+00,  4.81086667e-01,  2.31444381e-01],\n",
       "       [ 1.00000000e+00, -3.70202057e-01,  1.37049563e-01],\n",
       "       [ 1.00000000e+00,  1.99928473e+00,  3.99713944e+00],\n",
       "       [ 1.00000000e+00,  2.42804628e+00,  5.89540875e+00],\n",
       "       [ 1.00000000e+00, -1.79147527e-01,  3.20938366e-02],\n",
       "       [ 1.00000000e+00, -3.67578663e-01,  1.35114073e-01],\n",
       "       [ 1.00000000e+00, -4.37650008e-02,  1.91537529e-03],\n",
       "       [ 1.00000000e+00,  1.10581455e+00,  1.22282583e+00],\n",
       "       [ 1.00000000e+00,  1.75424988e+00,  3.07739264e+00],\n",
       "       [ 1.00000000e+00, -2.57057923e+00,  6.60787759e+00],\n",
       "       [ 1.00000000e+00, -1.24170774e+00,  1.54183812e+00],\n",
       "       [ 1.00000000e+00,  1.00163168e+00,  1.00326603e+00],\n",
       "       [ 1.00000000e+00, -1.60258842e+00,  2.56828963e+00],\n",
       "       [ 1.00000000e+00,  2.67750893e+00,  7.16905406e+00],\n",
       "       [ 1.00000000e+00, -2.49030188e+00,  6.20160348e+00],\n",
       "       [ 1.00000000e+00, -4.95307701e-01,  2.45329719e-01],\n",
       "       [ 1.00000000e+00,  2.27497084e+00,  5.17549231e+00],\n",
       "       [ 1.00000000e+00,  7.65709240e-01,  5.86310640e-01],\n",
       "       [ 1.00000000e+00,  1.72759151e+00,  2.98457244e+00]])"
      ]
     },
     "execution_count": 7,
     "metadata": {},
     "output_type": "execute_result"
    }
   ],
   "source": [
    "X_poly"
   ]
  },
  {
   "cell_type": "code",
   "execution_count": 8,
   "id": "4f154a77",
   "metadata": {},
   "outputs": [
    {
     "data": {
      "text/plain": [
       "LinearRegression()"
      ]
     },
     "execution_count": 8,
     "metadata": {},
     "output_type": "execute_result"
    }
   ],
   "source": [
    "## training these new features using the linear regression model\n",
    "from sklearn.linear_model import LinearRegression\n",
    "lin_reg = LinearRegression()\n",
    "lin_reg.fit(X_poly, y)"
   ]
  },
  {
   "cell_type": "code",
   "execution_count": 9,
   "id": "18593c26",
   "metadata": {},
   "outputs": [
    {
     "data": {
      "text/plain": [
       "array([2.12979316])"
      ]
     },
     "execution_count": 9,
     "metadata": {},
     "output_type": "execute_result"
    }
   ],
   "source": [
    "lin_reg.intercept_"
   ]
  },
  {
   "cell_type": "code",
   "execution_count": 10,
   "id": "39225b35",
   "metadata": {},
   "outputs": [
    {
     "data": {
      "text/plain": [
       "array([[0.        , 0.01523699, 0.4457859 ]])"
      ]
     },
     "execution_count": 10,
     "metadata": {},
     "output_type": "execute_result"
    }
   ],
   "source": [
    "lin_reg.coef_"
   ]
  },
  {
   "cell_type": "code",
   "execution_count": 18,
   "id": "cafb6eee",
   "metadata": {},
   "outputs": [
    {
     "data": {
      "text/plain": [
       "<matplotlib.legend.Legend at 0x22008820400>"
      ]
     },
     "execution_count": 18,
     "metadata": {},
     "output_type": "execute_result"
    },
    {
     "data": {
      "image/png": "[encoded data removed]",
      "text/plain": [
       "<Figure size 864x504 with 1 Axes>"
      ]
     },
     "metadata": {
      "needs_background": "light"
     },
     "output_type": "display_data"
    }
   ],
   "source": [
    "## plotting the predictions\n",
    "\n",
    "train_pred = []\n",
    "for i in range(len(X_poly)):\n",
    "    train_pred.append(lin_reg.intercept_ + lin_reg.coef_[0][1] * X_poly[i][1] + lin_reg.coef_[0][2] * X_poly[i][2])\n",
    "    \n",
    "plt.figure(figsize=(12,7))\n",
    "plt.plot(X, y, 'ro',label='Train')\n",
    "plt.plot(X, train_pred, 'go',label='Train Prediction')\n",
    "plt.legend(loc='best')"
   ]
  },
  {
   "cell_type": "code",
   "execution_count": null,
   "id": "e2b18674",
   "metadata": {},
   "outputs": [],
   "source": []
  }
 ],
 "metadata": {
  "kernelspec": {
   "display_name": "Python 3 (ipykernel)",
   "language": "python",
   "name": "python3"
  },
  "language_info": {
   "codemirror_mode": {
    "name": "ipython",
    "version": 3
   },
   "file_extension": ".py",
   "mimetype": "text/x-python",
   "name": "python",
   "nbconvert_exporter": "python",
   "pygments_lexer": "ipython3",
   "version": "3.9.7"
  }
 },
 "nbformat": 4,
 "nbformat_minor": 5
}
